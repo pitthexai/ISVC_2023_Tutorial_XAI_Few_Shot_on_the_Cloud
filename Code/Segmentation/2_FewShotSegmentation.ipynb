{
 "cells": [
  {
   "cell_type": "markdown",
   "id": "d302b4e3",
   "metadata": {},
   "source": [
    "## Few-Shot Segmentation Model Training"
   ]
  },
  {
   "cell_type": "code",
   "execution_count": 1,
   "id": "b2d61ac7",
   "metadata": {},
   "outputs": [
    {
     "name": "stdout",
     "output_type": "stream",
     "text": [
      "Requirement already satisfied: segmentation_models_pytorch in /home/datascience/conda/pytorch110_p38_gpu_v1/lib/python3.8/site-packages (0.3.3)\n",
      "Requirement already satisfied: pretrainedmodels==0.7.4 in /home/datascience/conda/pytorch110_p38_gpu_v1/lib/python3.8/site-packages (from segmentation_models_pytorch) (0.7.4)\n",
      "Requirement already satisfied: tqdm in /home/datascience/conda/pytorch110_p38_gpu_v1/lib/python3.8/site-packages (from segmentation_models_pytorch) (4.64.1)\n",
      "Requirement already satisfied: timm==0.9.2 in /home/datascience/conda/pytorch110_p38_gpu_v1/lib/python3.8/site-packages (from segmentation_models_pytorch) (0.9.2)\n",
      "Requirement already satisfied: efficientnet-pytorch==0.7.1 in /home/datascience/conda/pytorch110_p38_gpu_v1/lib/python3.8/site-packages (from segmentation_models_pytorch) (0.7.1)\n",
      "Requirement already satisfied: pillow in /home/datascience/conda/pytorch110_p38_gpu_v1/lib/python3.8/site-packages (from segmentation_models_pytorch) (9.2.0)\n",
      "Requirement already satisfied: torchvision>=0.5.0 in /home/datascience/conda/pytorch110_p38_gpu_v1/lib/python3.8/site-packages (from segmentation_models_pytorch) (0.16.0)\n",
      "Requirement already satisfied: torch in /home/datascience/conda/pytorch110_p38_gpu_v1/lib/python3.8/site-packages (from efficientnet-pytorch==0.7.1->segmentation_models_pytorch) (2.1.0)\n",
      "Requirement already satisfied: munch in /home/datascience/conda/pytorch110_p38_gpu_v1/lib/python3.8/site-packages (from pretrainedmodels==0.7.4->segmentation_models_pytorch) (2.5.0)\n",
      "Requirement already satisfied: pyyaml in /home/datascience/conda/pytorch110_p38_gpu_v1/lib/python3.8/site-packages (from timm==0.9.2->segmentation_models_pytorch) (5.4.1)\n",
      "Requirement already satisfied: safetensors in /home/datascience/conda/pytorch110_p38_gpu_v1/lib/python3.8/site-packages (from timm==0.9.2->segmentation_models_pytorch) (0.4.0)\n",
      "Requirement already satisfied: huggingface-hub in /home/datascience/conda/pytorch110_p38_gpu_v1/lib/python3.8/site-packages (from timm==0.9.2->segmentation_models_pytorch) (0.10.1)\n",
      "Requirement already satisfied: requests in /home/datascience/conda/pytorch110_p38_gpu_v1/lib/python3.8/site-packages (from torchvision>=0.5.0->segmentation_models_pytorch) (2.28.1)\n",
      "Requirement already satisfied: numpy in /home/datascience/conda/pytorch110_p38_gpu_v1/lib/python3.8/site-packages (from torchvision>=0.5.0->segmentation_models_pytorch) (1.23.3)\n",
      "Requirement already satisfied: triton==2.1.0 in /home/datascience/conda/pytorch110_p38_gpu_v1/lib/python3.8/site-packages (from torch->efficientnet-pytorch==0.7.1->segmentation_models_pytorch) (2.1.0)\n",
      "Requirement already satisfied: nvidia-cuda-cupti-cu12==12.1.105 in /home/datascience/conda/pytorch110_p38_gpu_v1/lib/python3.8/site-packages (from torch->efficientnet-pytorch==0.7.1->segmentation_models_pytorch) (12.1.105)\n",
      "Requirement already satisfied: sympy in /home/datascience/conda/pytorch110_p38_gpu_v1/lib/python3.8/site-packages (from torch->efficientnet-pytorch==0.7.1->segmentation_models_pytorch) (1.12)\n",
      "Requirement already satisfied: networkx in /home/datascience/conda/pytorch110_p38_gpu_v1/lib/python3.8/site-packages (from torch->efficientnet-pytorch==0.7.1->segmentation_models_pytorch) (3.1)\n",
      "Requirement already satisfied: nvidia-cuda-runtime-cu12==12.1.105 in /home/datascience/conda/pytorch110_p38_gpu_v1/lib/python3.8/site-packages (from torch->efficientnet-pytorch==0.7.1->segmentation_models_pytorch) (12.1.105)\n",
      "Requirement already satisfied: jinja2 in /home/datascience/conda/pytorch110_p38_gpu_v1/lib/python3.8/site-packages (from torch->efficientnet-pytorch==0.7.1->segmentation_models_pytorch) (3.1.2)\n",
      "Requirement already satisfied: nvidia-nccl-cu12==2.18.1 in /home/datascience/conda/pytorch110_p38_gpu_v1/lib/python3.8/site-packages (from torch->efficientnet-pytorch==0.7.1->segmentation_models_pytorch) (2.18.1)\n",
      "Requirement already satisfied: filelock in /home/datascience/conda/pytorch110_p38_gpu_v1/lib/python3.8/site-packages (from torch->efficientnet-pytorch==0.7.1->segmentation_models_pytorch) (3.8.0)\n",
      "Requirement already satisfied: nvidia-nvtx-cu12==12.1.105 in /home/datascience/conda/pytorch110_p38_gpu_v1/lib/python3.8/site-packages (from torch->efficientnet-pytorch==0.7.1->segmentation_models_pytorch) (12.1.105)\n",
      "Requirement already satisfied: typing-extensions in /home/datascience/conda/pytorch110_p38_gpu_v1/lib/python3.8/site-packages (from torch->efficientnet-pytorch==0.7.1->segmentation_models_pytorch) (4.4.0)\n",
      "Requirement already satisfied: fsspec in /home/datascience/conda/pytorch110_p38_gpu_v1/lib/python3.8/site-packages (from torch->efficientnet-pytorch==0.7.1->segmentation_models_pytorch) (2022.7.1)\n",
      "Requirement already satisfied: nvidia-cuda-nvrtc-cu12==12.1.105 in /home/datascience/conda/pytorch110_p38_gpu_v1/lib/python3.8/site-packages (from torch->efficientnet-pytorch==0.7.1->segmentation_models_pytorch) (12.1.105)\n",
      "Requirement already satisfied: nvidia-cudnn-cu12==8.9.2.26 in /home/datascience/conda/pytorch110_p38_gpu_v1/lib/python3.8/site-packages (from torch->efficientnet-pytorch==0.7.1->segmentation_models_pytorch) (8.9.2.26)\n",
      "Requirement already satisfied: nvidia-cusolver-cu12==11.4.5.107 in /home/datascience/conda/pytorch110_p38_gpu_v1/lib/python3.8/site-packages (from torch->efficientnet-pytorch==0.7.1->segmentation_models_pytorch) (11.4.5.107)\n",
      "Requirement already satisfied: nvidia-cusparse-cu12==12.1.0.106 in /home/datascience/conda/pytorch110_p38_gpu_v1/lib/python3.8/site-packages (from torch->efficientnet-pytorch==0.7.1->segmentation_models_pytorch) (12.1.0.106)\n",
      "Requirement already satisfied: nvidia-curand-cu12==10.3.2.106 in /home/datascience/conda/pytorch110_p38_gpu_v1/lib/python3.8/site-packages (from torch->efficientnet-pytorch==0.7.1->segmentation_models_pytorch) (10.3.2.106)\n",
      "Requirement already satisfied: nvidia-cufft-cu12==11.0.2.54 in /home/datascience/conda/pytorch110_p38_gpu_v1/lib/python3.8/site-packages (from torch->efficientnet-pytorch==0.7.1->segmentation_models_pytorch) (11.0.2.54)\n",
      "Requirement already satisfied: nvidia-cublas-cu12==12.1.3.1 in /home/datascience/conda/pytorch110_p38_gpu_v1/lib/python3.8/site-packages (from torch->efficientnet-pytorch==0.7.1->segmentation_models_pytorch) (12.1.3.1)\n",
      "Requirement already satisfied: nvidia-nvjitlink-cu12 in /home/datascience/conda/pytorch110_p38_gpu_v1/lib/python3.8/site-packages (from nvidia-cusolver-cu12==11.4.5.107->torch->efficientnet-pytorch==0.7.1->segmentation_models_pytorch) (12.2.140)\n",
      "Requirement already satisfied: packaging>=20.9 in /home/datascience/conda/pytorch110_p38_gpu_v1/lib/python3.8/site-packages (from huggingface-hub->timm==0.9.2->segmentation_models_pytorch) (21.3)\n",
      "Requirement already satisfied: six in /home/datascience/conda/pytorch110_p38_gpu_v1/lib/python3.8/site-packages (from munch->pretrainedmodels==0.7.4->segmentation_models_pytorch) (1.16.0)\n",
      "Requirement already satisfied: idna<4,>=2.5 in /home/datascience/conda/pytorch110_p38_gpu_v1/lib/python3.8/site-packages (from requests->torchvision>=0.5.0->segmentation_models_pytorch) (3.4)\n",
      "Requirement already satisfied: urllib3<1.27,>=1.21.1 in /home/datascience/conda/pytorch110_p38_gpu_v1/lib/python3.8/site-packages (from requests->torchvision>=0.5.0->segmentation_models_pytorch) (1.26.11)\n",
      "Requirement already satisfied: certifi>=2017.4.17 in /home/datascience/conda/pytorch110_p38_gpu_v1/lib/python3.8/site-packages (from requests->torchvision>=0.5.0->segmentation_models_pytorch) (2022.9.24)\n",
      "Requirement already satisfied: charset-normalizer<3,>=2 in /home/datascience/conda/pytorch110_p38_gpu_v1/lib/python3.8/site-packages (from requests->torchvision>=0.5.0->segmentation_models_pytorch) (2.1.1)\n",
      "Requirement already satisfied: pyparsing!=3.0.5,>=2.0.2 in /home/datascience/conda/pytorch110_p38_gpu_v1/lib/python3.8/site-packages (from packaging>=20.9->huggingface-hub->timm==0.9.2->segmentation_models_pytorch) (3.0.9)\n",
      "Requirement already satisfied: MarkupSafe>=2.0 in /home/datascience/conda/pytorch110_p38_gpu_v1/lib/python3.8/site-packages (from jinja2->torch->efficientnet-pytorch==0.7.1->segmentation_models_pytorch) (2.1.1)\n",
      "Requirement already satisfied: mpmath>=0.19 in /home/datascience/conda/pytorch110_p38_gpu_v1/lib/python3.8/site-packages (from sympy->torch->efficientnet-pytorch==0.7.1->segmentation_models_pytorch) (1.3.0)\n"
     ]
    }
   ],
   "source": [
    "!pip install segmentation_models_pytorch"
   ]
  }
 ],
 "metadata": {
  "kernelspec": {
   "display_name": "Python [conda env:pytorch110_p38_gpu_v1]",
   "language": "python",
   "name": "conda-env-pytorch110_p38_gpu_v1-py"
  },
  "language_info": {
   "codemirror_mode": {
    "name": "ipython",
    "version": 3
   },
   "file_extension": ".py",
   "mimetype": "text/x-python",
   "name": "python",
   "nbconvert_exporter": "python",
   "pygments_lexer": "ipython3",
   "version": "3.8.13"
  }
 },
 "nbformat": 4,
 "nbformat_minor": 5
}
