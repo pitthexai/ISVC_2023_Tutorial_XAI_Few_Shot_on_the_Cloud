{
 "cells": [
  {
   "cell_type": "markdown",
   "id": "1f3cd683",
   "metadata": {},
   "source": [
    "### Few-Shot YOLOv8 Training"
   ]
  },
  {
   "cell_type": "code",
   "execution_count": null,
   "id": "5bde7eeb",
   "metadata": {},
   "outputs": [],
   "source": [
    "# Import YOLO from Ultralytics library\n",
    "from ultralytics import YOLO\n",
    "import os"
   ]
  },
  {
   "cell_type": "code",
   "execution_count": null,
   "id": "172c3f4b",
   "metadata": {},
   "outputs": [],
   "source": [
    "model = YOLO(\"yolov8n.pt\")  # load a pretrained model (recommended for training)"
   ]
  },
  {
   "cell_type": "code",
   "execution_count": null,
   "id": "94964476",
   "metadata": {},
   "outputs": [],
   "source": [
    "# Train on few-shot dataset\n",
    "few_shot_root = \"/home/datascience/ISVC_2023_Tutorial_XAI_Few_Shot_on_the_Cloud/Code/Localization/yolov7-main/datasets/localization-10-shot/data.yaml\"\n",
    "metrics = model.train(data=few_shot_root, epochs=100)"
   ]
  },
  {
   "cell_type": "code",
   "execution_count": null,
   "id": "7a73641f",
   "metadata": {},
   "outputs": [],
   "source": [
    "metrics = model.val()  # evaluate model performance on the validation set"
   ]
  },
  {
   "cell_type": "code",
   "execution_count": null,
   "id": "5ac8444b",
   "metadata": {},
   "outputs": [],
   "source": [
    "# Evaluate on test set\n",
    "results = model.val(split=\"test\")"
   ]
  },
  {
   "cell_type": "code",
   "execution_count": null,
   "id": "a169bc69",
   "metadata": {},
   "outputs": [],
   "source": [
    "# Single image prediction\n",
    "result = model.predict(\"yolov7-main/datasets/localization-10-shot/test/images/9326106.jpg\", save=True)"
   ]
  },
  {
   "cell_type": "code",
   "execution_count": null,
   "id": "e7560c13",
   "metadata": {},
   "outputs": [],
   "source": [
    "# Multiple image prediction\n",
    "test_root = \"yolov7-main/datasets/localization-10-shot/test/images/\"\n",
    "test_imgs = [os.path.join(test_root, img) for img in os.listdir(test_root)]\n",
    "result = model.predict(test_imgs, save=True)"
   ]
  },
  {
   "cell_type": "code",
   "execution_count": null,
   "id": "14c7c34b",
   "metadata": {},
   "outputs": [],
   "source": [
    "## Save Model"
   ]
  },
  {
   "cell_type": "code",
   "execution_count": null,
   "id": "2bd37252",
   "metadata": {},
   "outputs": [],
   "source": [
    "!mkdir checkpoints\n",
    "!mkdir checkpoints/10-shot\n",
    "!cp runs/detect/train3/weights/best.pt checkpoints/10-shot"
   ]
  },
  {
   "cell_type": "code",
   "execution_count": null,
   "id": "fbd496cd",
   "metadata": {},
   "outputs": [],
   "source": []
  }
 ],
 "metadata": {
  "kernelspec": {
   "display_name": "Python [conda env:pytorch110_p38_gpu_v1]",
   "language": "python",
   "name": "conda-env-pytorch110_p38_gpu_v1-py"
  },
  "language_info": {
   "codemirror_mode": {
    "name": "ipython",
    "version": 3
   },
   "file_extension": ".py",
   "mimetype": "text/x-python",
   "name": "python",
   "nbconvert_exporter": "python",
   "pygments_lexer": "ipython3",
   "version": "3.8.13"
  }
 },
 "nbformat": 4,
 "nbformat_minor": 5
}
