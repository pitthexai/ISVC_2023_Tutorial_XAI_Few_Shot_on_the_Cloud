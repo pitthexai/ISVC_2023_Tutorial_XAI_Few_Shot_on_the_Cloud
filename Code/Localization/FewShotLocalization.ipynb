{
 "cells": [
  {
   "cell_type": "code",
   "execution_count": null,
   "id": "81b111ed",
   "metadata": {},
   "outputs": [],
   "source": [
    "!pip install ultralytics"
   ]
  },
  {
   "cell_type": "code",
   "execution_count": 1,
   "id": "7d22727a",
   "metadata": {},
   "outputs": [],
   "source": [
    "import numpy as np\n",
    "import pandas as pd\n",
    "import regex as re\n",
    "import os\n",
    "import shutil\n",
    "\n",
    "from ultralytics import YOLO\n",
    "from yolo_cam.eigen_cam import EigenCAM\n",
    "from yolo_cam.utils.image import show_cam_on_image, scale_cam_image\n",
    "\n",
    "import yaml\n",
    "from zipfile import ZipFile"
   ]
  },
  {
   "cell_type": "code",
   "execution_count": 3,
   "id": "dcfef373",
   "metadata": {},
   "outputs": [],
   "source": [
    "# Unzip Dataset\n",
    "data_folder = \"ISVC_Localization\"\n",
    "DATA = \"/home/datascience/ISVC_2023_Tutorial_XAI_Few_Shot_on_the_Cloud/SampleDataset(s)/\""
   ]
  },
  {
   "cell_type": "code",
   "execution_count": 4,
   "id": "9905e30a",
   "metadata": {},
   "outputs": [],
   "source": [
    "if not os.path.exists(os.path.join(DATA, data_folder)):\n",
    "    with ZipFile(f\"{DATA}/{data_folder}.zip\", 'r') as zipf:\n",
    "        zipf.extractall(f\"{DATA}\")"
   ]
  },
  {
   "cell_type": "code",
   "execution_count": 10,
   "id": "642ab87e",
   "metadata": {},
   "outputs": [],
   "source": [
    "from sklearn.model_selection import train_test_split\n",
    "def generate_datasets(root_dir, image_dir, annot_dir,  task=\"localization\"):\n",
    "    img_dir = os.path.join(root_dir, image_dir)\n",
    "    annot_dir = os.path.join(root_dir, annot_dir)\n",
    "    \n",
    "    # PID regex\n",
    "    pid_reg = re.compile(\"9[0-9]{6}\")\n",
    "    \n",
    "    # Image names + annotation names match\n",
    "    records = [[pid_reg.findall(img)[-1], img, img if task != \"localization\" else img.replace(\".jpg\", \".xml\")] \n",
    "               for img in os.listdir(img_dir) if \".DS_Store\" not in img and \".ipynb_checkpoints\" not in img]\n",
    "\n",
    "    data_records = pd.DataFrame(records, columns=[\"pid\", \"images\", \"masks\"])\n",
    "\n",
    "    train, test = train_test_split(data_records.pid.unique(), test_size=0.5, random_state=42)\n",
    "    valid, test = train_test_split(test, test_size=0.5, random_state=42)\n",
    "\n",
    "    train = data_records[data_records.pid.isin(train)].reset_index(drop=True)\n",
    "    valid = data_records[data_records.pid.isin(valid)].reset_index(drop=True)\n",
    "    test = data_records[data_records.pid.isin(test)].reset_index(drop=True)\n",
    "\n",
    "    return train, valid, test"
   ]
  },
  {
   "cell_type": "code",
   "execution_count": 11,
   "id": "2624e069",
   "metadata": {},
   "outputs": [],
   "source": [
    "train, valid, test = generate_datasets(f\"{DATA}/{data_folder}\", \"images\", \"labels\")"
   ]
  },
  {
   "cell_type": "code",
   "execution_count": 12,
   "id": "10456177",
   "metadata": {},
   "outputs": [
    {
     "data": {
      "text/html": [
       "<div>\n",
       "<style scoped>\n",
       "    .dataframe tbody tr th:only-of-type {\n",
       "        vertical-align: middle;\n",
       "    }\n",
       "\n",
       "    .dataframe tbody tr th {\n",
       "        vertical-align: top;\n",
       "    }\n",
       "\n",
       "    .dataframe thead th {\n",
       "        text-align: right;\n",
       "    }\n",
       "</style>\n",
       "<table border=\"1\" class=\"dataframe\">\n",
       "  <thead>\n",
       "    <tr style=\"text-align: right;\">\n",
       "      <th></th>\n",
       "      <th>pid</th>\n",
       "      <th>images</th>\n",
       "      <th>masks</th>\n",
       "    </tr>\n",
       "  </thead>\n",
       "  <tbody>\n",
       "    <tr>\n",
       "      <th>0</th>\n",
       "      <td>9319367</td>\n",
       "      <td>9319367.jpg</td>\n",
       "      <td>9319367.xml</td>\n",
       "    </tr>\n",
       "    <tr>\n",
       "      <th>1</th>\n",
       "      <td>9326657</td>\n",
       "      <td>9326657.jpg</td>\n",
       "      <td>9326657.xml</td>\n",
       "    </tr>\n",
       "    <tr>\n",
       "      <th>2</th>\n",
       "      <td>9413071</td>\n",
       "      <td>9413071.jpg</td>\n",
       "      <td>9413071.xml</td>\n",
       "    </tr>\n",
       "    <tr>\n",
       "      <th>3</th>\n",
       "      <td>9337068</td>\n",
       "      <td>9337068.jpg</td>\n",
       "      <td>9337068.xml</td>\n",
       "    </tr>\n",
       "    <tr>\n",
       "      <th>4</th>\n",
       "      <td>9372219</td>\n",
       "      <td>9372219.jpg</td>\n",
       "      <td>9372219.xml</td>\n",
       "    </tr>\n",
       "    <tr>\n",
       "      <th>5</th>\n",
       "      <td>9353017</td>\n",
       "      <td>9353017.jpg</td>\n",
       "      <td>9353017.xml</td>\n",
       "    </tr>\n",
       "    <tr>\n",
       "      <th>6</th>\n",
       "      <td>9433580</td>\n",
       "      <td>9433580.jpg</td>\n",
       "      <td>9433580.xml</td>\n",
       "    </tr>\n",
       "    <tr>\n",
       "      <th>7</th>\n",
       "      <td>9357301</td>\n",
       "      <td>9357301.jpg</td>\n",
       "      <td>9357301.xml</td>\n",
       "    </tr>\n",
       "    <tr>\n",
       "      <th>8</th>\n",
       "      <td>9322375</td>\n",
       "      <td>9322375.jpg</td>\n",
       "      <td>9322375.xml</td>\n",
       "    </tr>\n",
       "    <tr>\n",
       "      <th>9</th>\n",
       "      <td>9398062</td>\n",
       "      <td>9398062.jpg</td>\n",
       "      <td>9398062.xml</td>\n",
       "    </tr>\n",
       "    <tr>\n",
       "      <th>10</th>\n",
       "      <td>9398983</td>\n",
       "      <td>9398983.jpg</td>\n",
       "      <td>9398983.xml</td>\n",
       "    </tr>\n",
       "    <tr>\n",
       "      <th>11</th>\n",
       "      <td>9438852</td>\n",
       "      <td>9438852.jpg</td>\n",
       "      <td>9438852.xml</td>\n",
       "    </tr>\n",
       "    <tr>\n",
       "      <th>12</th>\n",
       "      <td>9385075</td>\n",
       "      <td>9385075.jpg</td>\n",
       "      <td>9385075.xml</td>\n",
       "    </tr>\n",
       "    <tr>\n",
       "      <th>13</th>\n",
       "      <td>9429578</td>\n",
       "      <td>9429578.jpg</td>\n",
       "      <td>9429578.xml</td>\n",
       "    </tr>\n",
       "    <tr>\n",
       "      <th>14</th>\n",
       "      <td>9344856</td>\n",
       "      <td>9344856.jpg</td>\n",
       "      <td>9344856.xml</td>\n",
       "    </tr>\n",
       "    <tr>\n",
       "      <th>15</th>\n",
       "      <td>9387094</td>\n",
       "      <td>9387094.jpg</td>\n",
       "      <td>9387094.xml</td>\n",
       "    </tr>\n",
       "    <tr>\n",
       "      <th>16</th>\n",
       "      <td>9399980</td>\n",
       "      <td>9399980.jpg</td>\n",
       "      <td>9399980.xml</td>\n",
       "    </tr>\n",
       "    <tr>\n",
       "      <th>17</th>\n",
       "      <td>9313715</td>\n",
       "      <td>9313715.jpg</td>\n",
       "      <td>9313715.xml</td>\n",
       "    </tr>\n",
       "    <tr>\n",
       "      <th>18</th>\n",
       "      <td>9343533</td>\n",
       "      <td>9343533.jpg</td>\n",
       "      <td>9343533.xml</td>\n",
       "    </tr>\n",
       "    <tr>\n",
       "      <th>19</th>\n",
       "      <td>9369441</td>\n",
       "      <td>9369441.jpg</td>\n",
       "      <td>9369441.xml</td>\n",
       "    </tr>\n",
       "    <tr>\n",
       "      <th>20</th>\n",
       "      <td>9349241</td>\n",
       "      <td>9349241.jpg</td>\n",
       "      <td>9349241.xml</td>\n",
       "    </tr>\n",
       "    <tr>\n",
       "      <th>21</th>\n",
       "      <td>9364970</td>\n",
       "      <td>9364970.jpg</td>\n",
       "      <td>9364970.xml</td>\n",
       "    </tr>\n",
       "    <tr>\n",
       "      <th>22</th>\n",
       "      <td>9375344</td>\n",
       "      <td>9375344.jpg</td>\n",
       "      <td>9375344.xml</td>\n",
       "    </tr>\n",
       "    <tr>\n",
       "      <th>23</th>\n",
       "      <td>9339860</td>\n",
       "      <td>9339860.jpg</td>\n",
       "      <td>9339860.xml</td>\n",
       "    </tr>\n",
       "    <tr>\n",
       "      <th>24</th>\n",
       "      <td>9423500</td>\n",
       "      <td>9423500.jpg</td>\n",
       "      <td>9423500.xml</td>\n",
       "    </tr>\n",
       "  </tbody>\n",
       "</table>\n",
       "</div>"
      ],
      "text/plain": [
       "        pid       images        masks\n",
       "0   9319367  9319367.jpg  9319367.xml\n",
       "1   9326657  9326657.jpg  9326657.xml\n",
       "2   9413071  9413071.jpg  9413071.xml\n",
       "3   9337068  9337068.jpg  9337068.xml\n",
       "4   9372219  9372219.jpg  9372219.xml\n",
       "5   9353017  9353017.jpg  9353017.xml\n",
       "6   9433580  9433580.jpg  9433580.xml\n",
       "7   9357301  9357301.jpg  9357301.xml\n",
       "8   9322375  9322375.jpg  9322375.xml\n",
       "9   9398062  9398062.jpg  9398062.xml\n",
       "10  9398983  9398983.jpg  9398983.xml\n",
       "11  9438852  9438852.jpg  9438852.xml\n",
       "12  9385075  9385075.jpg  9385075.xml\n",
       "13  9429578  9429578.jpg  9429578.xml\n",
       "14  9344856  9344856.jpg  9344856.xml\n",
       "15  9387094  9387094.jpg  9387094.xml\n",
       "16  9399980  9399980.jpg  9399980.xml\n",
       "17  9313715  9313715.jpg  9313715.xml\n",
       "18  9343533  9343533.jpg  9343533.xml\n",
       "19  9369441  9369441.jpg  9369441.xml\n",
       "20  9349241  9349241.jpg  9349241.xml\n",
       "21  9364970  9364970.jpg  9364970.xml\n",
       "22  9375344  9375344.jpg  9375344.xml\n",
       "23  9339860  9339860.jpg  9339860.xml\n",
       "24  9423500  9423500.jpg  9423500.xml"
      ]
     },
     "execution_count": 12,
     "metadata": {},
     "output_type": "execute_result"
    }
   ],
   "source": [
    "train"
   ]
  },
  {
   "cell_type": "code",
   "execution_count": null,
   "id": "9df363ce",
   "metadata": {},
   "outputs": [],
   "source": [
    "def get_few_shot_sample(dataset, k=1, random_state=42):\n",
    "    if k > len(dataset):\n",
    "        return dataset\n",
    "\n",
    "    return dataset.sample(k, random_state=random_state).reset_index(drop=True)"
   ]
  },
  {
   "cell_type": "code",
   "execution_count": null,
   "id": "89d76803",
   "metadata": {},
   "outputs": [],
   "source": [
    "train_few = get_few_shot_sample(train, k=10)\n",
    "valid_few = get_few_shot_sample(valid, k=10)"
   ]
  },
  {
   "cell_type": "code",
   "execution_count": null,
   "id": "59de3a72",
   "metadata": {},
   "outputs": [],
   "source": [
    "few_shot_dir = \"yolov7-main/datasets/localization-10-shot\"\n",
    "if not os.path.exists(few_shot_dir):\n",
    "    os.makedirs(few_shot_dir)"
   ]
  },
  {
   "cell_type": "code",
   "execution_count": null,
   "id": "e909040d",
   "metadata": {},
   "outputs": [],
   "source": [
    "os.makedirs(f\"{few_shot_dir}/train/images\")\n",
    "os.makedirs(f\"{few_shot_dir}/train/labels\")\n",
    "\n",
    "os.makedirs(f\"{few_shot_dir}/valid/images\")\n",
    "os.makedirs(f\"{few_shot_dir}/valid/labels\")\n",
    "\n",
    "os.makedirs(f\"{few_shot_dir}/test/images\")\n",
    "os.makedirs(f\"{few_shot_dir}/test/labels\")\n"
   ]
  },
  {
   "cell_type": "code",
   "execution_count": null,
   "id": "3fc78e67",
   "metadata": {},
   "outputs": [],
   "source": [
    "for pid in train_few.pid:\n",
    "    shutil.copy(f\"{DATA}/{data_folder}/images/{pid}.jpg\", f\"{few_shot_dir}/train/images/{pid}.jpg\")\n",
    "    shutil.copy(f\"{DATA}/{data_folder}/labels/{pid}.txt\", f\"{few_shot_dir}/train/labels/{pid}.txt\")"
   ]
  },
  {
   "cell_type": "code",
   "execution_count": null,
   "id": "ed777289",
   "metadata": {},
   "outputs": [],
   "source": [
    "for pid in valid_few.pid:\n",
    "    shutil.copy(f\"{DATA}/{data_folder}/images/{pid}.jpg\", f\"{few_shot_dir}/valid/images/{pid}.jpg\")\n",
    "    shutil.copy(f\"{DATA}/{data_folder}/labels/{pid}.txt\", f\"{few_shot_dir}/valid/labels/{pid}.txt\")"
   ]
  },
  {
   "cell_type": "code",
   "execution_count": null,
   "id": "a0f1156e",
   "metadata": {},
   "outputs": [],
   "source": [
    "for pid in test.pid:\n",
    "    shutil.copy(f\"{DATA}/{data_folder}/images/{pid}.jpg\", f\"{few_shot_dir}/test/images/{pid}.jpg\")\n",
    "    shutil.copy(f\"{DATA}/{data_folder}/labels/{pid}.txt\", f\"{few_shot_dir}/test/labels/{pid}.txt\")"
   ]
  },
  {
   "cell_type": "code",
   "execution_count": null,
   "id": "818c097b",
   "metadata": {},
   "outputs": [],
   "source": [
    "yaml_info = {\n",
    "    \"train\": \"../train/images\",\n",
    "    \"val\": \"../valid/images\",\n",
    "    \"test\": \"../test/images\",\n",
    "    \"nc\": 1,\n",
    "    \"names\": ['KneeAPView']\n",
    "}"
   ]
  },
  {
   "cell_type": "code",
   "execution_count": null,
   "id": "5d05c428",
   "metadata": {},
   "outputs": [],
   "source": [
    "with open(f'{few_shot_dir}/data.yaml', 'w') as f:\n",
    "    yaml.dump(yaml_info, f)"
   ]
  },
  {
   "cell_type": "code",
   "execution_count": null,
   "id": "26e63584",
   "metadata": {},
   "outputs": [],
   "source": []
  },
  {
   "cell_type": "markdown",
   "id": "e60f17c3",
   "metadata": {},
   "source": [
    "### Few-Shot YOLOv8 Training"
   ]
  },
  {
   "cell_type": "code",
   "execution_count": null,
   "id": "b5b597ab",
   "metadata": {},
   "outputs": [],
   "source": [
    "# Import YOLO from Ultralytics library\n",
    "from ultralytics import YOLO\n",
    "import os"
   ]
  },
  {
   "cell_type": "code",
   "execution_count": null,
   "id": "862fc16a",
   "metadata": {},
   "outputs": [],
   "source": [
    "model = YOLO(\"yolov8n.pt\")  # load a pretrained model (recommended for training)"
   ]
  },
  {
   "cell_type": "code",
   "execution_count": null,
   "id": "9cf9a85d",
   "metadata": {},
   "outputs": [],
   "source": [
    "# Train on few-shot dataset\n",
    "few_shot_root = \"/home/datascience/ISVC_2023_Tutorial_XAI_Few_Shot_on_the_Cloud/Code/Localization/yolov7-main/datasets/localization-10-shot/data.yaml\"\n",
    "metrics = model.train(data=few_shot_root, epochs=100)"
   ]
  },
  {
   "cell_type": "code",
   "execution_count": null,
   "id": "3fa272c5",
   "metadata": {},
   "outputs": [],
   "source": [
    "metrics = model.val()  # evaluate model performance on the validation set"
   ]
  },
  {
   "cell_type": "code",
   "execution_count": null,
   "id": "e04ebc9e",
   "metadata": {},
   "outputs": [],
   "source": [
    "# Evaluate on test set\n",
    "results = model.val(split=\"test\")"
   ]
  },
  {
   "cell_type": "code",
   "execution_count": null,
   "id": "cfaff264",
   "metadata": {},
   "outputs": [],
   "source": [
    "# Single image prediction\n",
    "result = model.predict(\"yolov7-main/datasets/localization-10-shot/test/images/9326106.jpg\", save=True)"
   ]
  },
  {
   "cell_type": "code",
   "execution_count": null,
   "id": "1c9ad60b",
   "metadata": {},
   "outputs": [],
   "source": [
    "# Multiple image prediction\n",
    "test_root = \"yolov7-main/datasets/localization-10-shot/test/images/\"\n",
    "test_imgs = [os.path.join(test_root, img) for img in os.listdir(test_root)]\n",
    "result = model.predict(test_imgs, save=True)"
   ]
  },
  {
   "cell_type": "code",
   "execution_count": null,
   "id": "7417516c",
   "metadata": {},
   "outputs": [],
   "source": [
    "## Save Model"
   ]
  },
  {
   "cell_type": "code",
   "execution_count": null,
   "id": "13de5180",
   "metadata": {},
   "outputs": [],
   "source": [
    "!mkdir checkpoints\n",
    "!mkdir checkpoints/10-shot\n",
    "!cp runs/detect/train3/weights/best.pt checkpoints/10-shot"
   ]
  },
  {
   "cell_type": "code",
   "execution_count": null,
   "id": "9e8f3afd",
   "metadata": {},
   "outputs": [],
   "source": [
    "trained_model_pth = \"runs/detect/train3/weights/best.pt\"\n",
    "model = YOLO(trained_model_pth)"
   ]
  },
  {
   "cell_type": "code",
   "execution_count": null,
   "id": "08254862",
   "metadata": {},
   "outputs": [],
   "source": [
    "target_layers =[model.model.model[-2]]"
   ]
  },
  {
   "cell_type": "code",
   "execution_count": null,
   "id": "7fbda8ed",
   "metadata": {},
   "outputs": [],
   "source": [
    "cam = EigenCAM(model, target_layers,task='od')"
   ]
  },
  {
   "cell_type": "code",
   "execution_count": null,
   "id": "5892ba36",
   "metadata": {},
   "outputs": [],
   "source": [
    "img = cv2.imread(\"yolov7-main/datasets/localization-10-shot/test/images/9326106.jpg\")"
   ]
  },
  {
   "cell_type": "code",
   "execution_count": null,
   "id": "d9fb761d",
   "metadata": {},
   "outputs": [],
   "source": [
    "img.shape"
   ]
  },
  {
   "cell_type": "code",
   "execution_count": null,
   "id": "9f1cedcc",
   "metadata": {},
   "outputs": [],
   "source": [
    "plt.imshow(img)"
   ]
  },
  {
   "cell_type": "code",
   "execution_count": null,
   "id": "c2a3279c",
   "metadata": {},
   "outputs": [],
   "source": [
    "img = cv2.resize(img, (640, 640))\n",
    "rgb_img = img.copy()\n",
    "img = np.float32(img) / 255\n",
    "\n",
    "grayscale_cam = cam(rgb_img)[0, :, :]\n",
    "cam_image = show_cam_on_image(img, grayscale_cam, use_rgb=True)\n",
    "plt.imshow(cam_image)\n",
    "plt.show()"
   ]
  },
  {
   "cell_type": "code",
   "execution_count": null,
   "id": "4d738f20",
   "metadata": {},
   "outputs": [],
   "source": [
    "g_scale = cv2.resize(np.stack([grayscale_cam] * 3, axis=2), (224,224))\n",
    "\n",
    "plt.imshow(g_scale, cmap='gray')\n",
    "plt.show()"
   ]
  },
  {
   "cell_type": "code",
   "execution_count": null,
   "id": "6d373d81",
   "metadata": {},
   "outputs": [],
   "source": [
    "# im = cv2.cvtColor(rgb_img, cv2.COLOR_RGB2BGR)\n",
    "Image.fromarray(np.hstack((rgb_img, cam_image)))"
   ]
  }
 ],
 "metadata": {
  "kernelspec": {
   "display_name": "Python [conda env:pytorch110_p38_gpu_v1]",
   "language": "python",
   "name": "conda-env-pytorch110_p38_gpu_v1-py"
  },
  "language_info": {
   "codemirror_mode": {
    "name": "ipython",
    "version": 3
   },
   "file_extension": ".py",
   "mimetype": "text/x-python",
   "name": "python",
   "nbconvert_exporter": "python",
   "pygments_lexer": "ipython3",
   "version": "3.8.13"
  }
 },
 "nbformat": 4,
 "nbformat_minor": 5
}
