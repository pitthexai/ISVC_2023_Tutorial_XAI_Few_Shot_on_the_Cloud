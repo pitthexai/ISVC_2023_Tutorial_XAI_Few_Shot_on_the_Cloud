{
 "cells": [
  {
   "cell_type": "code",
   "execution_count": null,
   "id": "9f634423",
   "metadata": {},
   "outputs": [],
   "source": [
    "!pip install ultralytics ttach"
   ]
  },
  {
   "cell_type": "code",
   "execution_count": null,
   "id": "b54f07db",
   "metadata": {},
   "outputs": [],
   "source": [
    "import numpy as np\n",
    "import pandas as pd\n",
    "import regex as re\n",
    "import os\n",
    "import shutil\n",
    "\n",
    "from PIL import Image\n",
    "\n",
    "from ultralytics import YOLO\n",
    "from yolo_cam.eigen_cam import EigenCAM\n",
    "from yolo_cam.utils.image import show_cam_on_image, scale_cam_image\n",
    "\n",
    "import yaml\n",
    "from zipfile import ZipFile"
   ]
  },
  {
   "cell_type": "markdown",
   "id": "c7fb08b2",
   "metadata": {},
   "source": [
    "### Data Setup"
   ]
  },
  {
   "cell_type": "code",
   "execution_count": null,
   "id": "5f392289",
   "metadata": {},
   "outputs": [],
   "source": [
    "# Unzip Dataset\n",
    "data_folder = \"ISVC_Localization\"\n",
    "SHOT = 1\n",
    "YOLO_DATASET_ROOT = f\"datasets/\"\n",
    "FEW_SHOT_ROOT = f\"/home/datascience/ISVC_2023_Tutorial_XAI_Few_Shot_on_the_Cloud/Code/Localization/Few_Shot_Sets/{SHOT}-shot/\"\n",
    "DATA = \"/home/datascience/ISVC_2023_Tutorial_XAI_Few_Shot_on_the_Cloud/SampleDataset(s)/\""
   ]
  },
  {
   "cell_type": "code",
   "execution_count": null,
   "id": "4888e9c5",
   "metadata": {},
   "outputs": [],
   "source": [
    "if not os.path.exists(os.path.join(DATA, data_folder)):\n",
    "    with ZipFile(f\"{DATA}/{data_folder}.zip\", 'r') as zipf:\n",
    "        zipf.extractall(f\"{DATA}\")"
   ]
  },
  {
   "cell_type": "code",
   "execution_count": null,
   "id": "bd75979e",
   "metadata": {},
   "outputs": [],
   "source": [
    "from sklearn.model_selection import train_test_split\n",
    "def generate_datasets(root_dir, image_dir, annot_dir,  task=\"localization\"):\n",
    "    img_dir = os.path.join(root_dir, image_dir)\n",
    "    annot_dir = os.path.join(root_dir, annot_dir)\n",
    "    \n",
    "    # PID regex\n",
    "    pid_reg = re.compile(\"9[0-9]{6}\")\n",
    "    \n",
    "    # Image names + annotation names match\n",
    "    records = [[pid_reg.findall(img)[-1], img, img if task != \"localization\" else img.replace(\".jpg\", \".xml\")] \n",
    "               for img in os.listdir(img_dir) if \".DS_Store\" not in img and \".ipynb_checkpoints\" not in img]\n",
    "\n",
    "    data_records = pd.DataFrame(records, columns=[\"pid\", \"images\", \"masks\"])\n",
    "\n",
    "    train, test = train_test_split(data_records.pid.unique(), test_size=0.5, random_state=42)\n",
    "    valid, test = train_test_split(test, test_size=0.5, random_state=42)\n",
    "\n",
    "    train = data_records[data_records.pid.isin(train)].reset_index(drop=True)\n",
    "    valid = data_records[data_records.pid.isin(valid)].reset_index(drop=True)\n",
    "    test = data_records[data_records.pid.isin(test)].reset_index(drop=True)\n",
    "\n",
    "    return train, valid, test"
   ]
  },
  {
   "cell_type": "code",
   "execution_count": null,
   "id": "d8aa75b3",
   "metadata": {},
   "outputs": [],
   "source": [
    "train, valid, test = generate_datasets(f\"{DATA}/{data_folder}\", \"images\", \"labels\")"
   ]
  },
  {
   "cell_type": "code",
   "execution_count": null,
   "id": "b24dabe2",
   "metadata": {},
   "outputs": [],
   "source": [
    "def get_few_shot_sample(dataset, k=1, random_state=42):\n",
    "    if k > len(dataset):\n",
    "        return dataset\n",
    "\n",
    "    return dataset.sample(k, random_state=random_state).reset_index(drop=True)"
   ]
  },
  {
   "cell_type": "code",
   "execution_count": null,
   "id": "d6b2dc07",
   "metadata": {},
   "outputs": [],
   "source": [
    "train_few = get_few_shot_sample(train, k=10)\n",
    "valid_few = get_few_shot_sample(valid, k=10)"
   ]
  },
  {
   "cell_type": "code",
   "execution_count": null,
   "id": "f5285282",
   "metadata": {},
   "outputs": [],
   "source": [
    "# YOLOv8 requires a \"dataset\" directory for all .yaml files to be located in\n",
    "if not os.path.exists(YOLO_DATASET_ROOT):\n",
    "    os.makedirs(dataset_root)"
   ]
  },
  {
   "cell_type": "code",
   "execution_count": null,
   "id": "aae92b38",
   "metadata": {},
   "outputs": [],
   "source": [
    "os.makedirs(f\"{FEW_SHOT_ROOT}/train/images\")\n",
    "os.makedirs(f\"{FEW_SHOT_ROOT}/train/labels\")\n",
    "\n",
    "os.makedirs(f\"{FEW_SHOT_ROOT}/valid/images\")\n",
    "os.makedirs(f\"{FEW_SHOT_ROOT}/valid/labels\")\n",
    "\n",
    "os.makedirs(f\"{FEW_SHOT_ROOT}/test/images\")\n",
    "os.makedirs(f\"{FEW_SHOT_ROOT}/test/labels\")\n"
   ]
  },
  {
   "cell_type": "code",
   "execution_count": null,
   "id": "5df0b877",
   "metadata": {},
   "outputs": [],
   "source": [
    "for pid in train_few.pid:\n",
    "    shutil.copy(f\"{DATA}/{data_folder}/images/{pid}.jpg\", f\"{FEW_SHOT_ROOT}/train/images/{pid}.jpg\")\n",
    "    shutil.copy(f\"{DATA}/{data_folder}/labels/{pid}.txt\", f\"{FEW_SHOT_ROOT}/train/labels/{pid}.txt\")"
   ]
  },
  {
   "cell_type": "code",
   "execution_count": null,
   "id": "869a9c9c",
   "metadata": {},
   "outputs": [],
   "source": [
    "for pid in valid_few.pid:\n",
    "    shutil.copy(f\"{DATA}/{data_folder}/images/{pid}.jpg\", f\"{FEW_SHOT_ROOT}/valid/images/{pid}.jpg\")\n",
    "    shutil.copy(f\"{DATA}/{data_folder}/labels/{pid}.txt\", f\"{FEW_SHOT_ROOT}/valid/labels/{pid}.txt\")"
   ]
  },
  {
   "cell_type": "code",
   "execution_count": null,
   "id": "b234547d",
   "metadata": {},
   "outputs": [],
   "source": [
    "for pid in test.pid:\n",
    "    shutil.copy(f\"{DATA}/{data_folder}/images/{pid}.jpg\", f\"{FEW_SHOT_ROOT}/test/images/{pid}.jpg\")\n",
    "    shutil.copy(f\"{DATA}/{data_folder}/labels/{pid}.txt\", f\"{FEW_SHOT_ROOT}/test/labels/{pid}.txt\")"
   ]
  },
  {
   "cell_type": "code",
   "execution_count": null,
   "id": "6bcbe360",
   "metadata": {},
   "outputs": [],
   "source": [
    "# Setup YAML file with direct path to train, val, test directories \n",
    "yaml_info = {\n",
    "    \"train\": f\"{FEW_SHOT_ROOT}/train/images\",\n",
    "    \"val\": f\"{FEW_SHOT_ROOT}/valid/images\",\n",
    "    \"test\": f\"{FEW_SHOT_ROOT}/test/images\",\n",
    "    \"nc\": 1,\n",
    "    \"names\": ['KneeAPView']\n",
    "}"
   ]
  },
  {
   "cell_type": "code",
   "execution_count": null,
   "id": "944434ad",
   "metadata": {},
   "outputs": [],
   "source": [
    "with open(f'{YOLO_DATASET_ROOT}/{SHOT}_shot_localization.yaml', 'w') as f:\n",
    "    yaml.dump(yaml_info, f)"
   ]
  },
  {
   "cell_type": "code",
   "execution_count": null,
   "id": "6bb896cd",
   "metadata": {},
   "outputs": [],
   "source": []
  },
  {
   "cell_type": "markdown",
   "id": "90891a8e",
   "metadata": {},
   "source": [
    "### Few-Shot YOLOv8 Training"
   ]
  },
  {
   "cell_type": "code",
   "execution_count": null,
   "id": "32fde93c",
   "metadata": {},
   "outputs": [],
   "source": [
    "# Import YOLO from Ultralytics library\n",
    "from ultralytics import YOLO\n",
    "import os"
   ]
  },
  {
   "cell_type": "code",
   "execution_count": null,
   "id": "e0b15e32",
   "metadata": {},
   "outputs": [],
   "source": [
    "model = YOLO(\"yolov8n.pt\")  # load a pretrained model (recommended for training)"
   ]
  },
  {
   "cell_type": "code",
   "execution_count": null,
   "id": "6fb5c416",
   "metadata": {},
   "outputs": [],
   "source": [
    "# Train on few-shot dataset\n",
    "metrics = model.train(data=f'{YOLO_DATASET_ROOT}/{SHOT}_shot_localization.yaml', epochs=100)"
   ]
  },
  {
   "cell_type": "code",
   "execution_count": null,
   "id": "3ee317b8",
   "metadata": {},
   "outputs": [],
   "source": [
    "metrics = model.val()  # evaluate model performance on the validation set"
   ]
  },
  {
   "cell_type": "code",
   "execution_count": null,
   "id": "fd1408a0",
   "metadata": {},
   "outputs": [],
   "source": [
    "# Evaluate on test set\n",
    "results = model.val(split=\"test\")"
   ]
  },
  {
   "cell_type": "code",
   "execution_count": null,
   "id": "0938259f",
   "metadata": {},
   "outputs": [],
   "source": [
    "# Single image prediction\n",
    "result = model.predict(\"/home/datascience/ISVC_2023_Tutorial_XAI_Few_Shot_on_the_Cloud/Code/Localization/Few_Shot_Sets/10-shot/train/images/9326657.jpg\", save=True)"
   ]
  },
  {
   "cell_type": "code",
   "execution_count": null,
   "id": "0895a109",
   "metadata": {},
   "outputs": [],
   "source": [
    "# Multiple image prediction\n",
    "trained_model_pth = \"runs/detect/train2/weights/best.pt\"\n",
    "model = YOLO(trained_model_pth)\n",
    "\n",
    "test_root = f\"Few_Shot_Sets/{SHOT}-shot/test/images\"\n",
    "test_imgs = [os.path.join(test_root, img) for img in os.listdir(test_root)]\n",
    "result = model.predict(test_imgs, save=True)"
   ]
  },
  {
   "cell_type": "code",
   "execution_count": null,
   "id": "28f50bf4",
   "metadata": {},
   "outputs": [],
   "source": [
    "## Save Model"
   ]
  },
  {
   "cell_type": "code",
   "execution_count": null,
   "id": "5ca3666e",
   "metadata": {},
   "outputs": [],
   "source": [
    "!mkdir checkpoints\n",
    "!mkdir checkpoints/{SHOT}-shot\n",
    "\n",
    "# will need to modify path to match output directory of your trained model if run more than once\n",
    "!cp runs/detect/train/weights/best.pt checkpoints/{SHOT}_shot_local.pt "
   ]
  },
  {
   "cell_type": "markdown",
   "id": "a77eeea5",
   "metadata": {},
   "source": [
    "### Explainability: EigenCAM"
   ]
  },
  {
   "cell_type": "code",
   "execution_count": null,
   "id": "697502bb",
   "metadata": {},
   "outputs": [],
   "source": [
    "trained_model_pth = \"checkpoints/10_shot_local.pt\"\n",
    "model = YOLO(trained_model_pth)"
   ]
  },
  {
   "cell_type": "code",
   "execution_count": null,
   "id": "e22e91d0",
   "metadata": {},
   "outputs": [],
   "source": [
    "target_layers =[model.model.model[-4]]"
   ]
  },
  {
   "cell_type": "code",
   "execution_count": null,
   "id": "7a0eb945",
   "metadata": {},
   "outputs": [],
   "source": [
    "import cv2\n",
    "img = cv2.imread(\"/home/datascience/ISVC_2023_Tutorial_XAI_Few_Shot_on_the_Cloud/Code/Localization/Few_Shot_Sets/10-shot/test/images/9361281.jpg\")"
   ]
  },
  {
   "cell_type": "code",
   "execution_count": null,
   "id": "ef4b2072",
   "metadata": {},
   "outputs": [],
   "source": [
    "img = cv2.resize(img, (640, 640))\n",
    "rgb_img = img.copy()\n",
    "\n",
    "cam = EigenCAM(model, target_layers,task='od')\n",
    "grayscale_cam = cam(rgb_img)[0, :, :]\n",
    "cam_image = show_cam_on_image(np.float32(img) / 255, grayscale_cam, use_rgb=True)\n",
    "g_scale = cv2.resize(np.stack([grayscale_cam] * 3, axis=2), (224,224))"
   ]
  },
  {
   "cell_type": "code",
   "execution_count": null,
   "id": "ea826a54",
   "metadata": {},
   "outputs": [],
   "source": [
    "Image.fromarray(np.hstack((rgb_img, cam_image)))"
   ]
  }
 ],
 "metadata": {
  "kernelspec": {
   "display_name": "Python [conda env:pytorch110_p38_gpu_v1]",
   "language": "python",
   "name": "conda-env-pytorch110_p38_gpu_v1-py"
  },
  "language_info": {
   "codemirror_mode": {
    "name": "ipython",
    "version": 3
   },
   "file_extension": ".py",
   "mimetype": "text/x-python",
   "name": "python",
   "nbconvert_exporter": "python",
   "pygments_lexer": "ipython3",
   "version": "3.8.13"
  }
 },
 "nbformat": 4,
 "nbformat_minor": 5
}
