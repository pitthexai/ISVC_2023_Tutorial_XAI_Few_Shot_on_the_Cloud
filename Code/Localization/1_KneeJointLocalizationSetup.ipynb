{
 "cells": [
  {
   "cell_type": "markdown",
   "id": "7618d4f4",
   "metadata": {},
   "source": [
    "## Knee Joint Localization Dataset Setup"
   ]
  },
  {
   "cell_type": "code",
   "execution_count": null,
   "id": "f3a13c65",
   "metadata": {},
   "outputs": [],
   "source": [
    "import numpy as np\n",
    "import pandas as pd\n",
    "import regex as re\n",
    "import os\n",
    "import shutil\n",
    "\n",
    "import yaml\n",
    "from zipfile import ZipFile"
   ]
  },
  {
   "cell_type": "code",
   "execution_count": null,
   "id": "b02f94a2",
   "metadata": {},
   "outputs": [],
   "source": [
    "# Unzip Dataset\n",
    "data_folder = \"ISVC_Localization\"\n",
    "DATA = \"/home/datascience/ISVC_2023_Tutorial_XAI_Few_Shot_on_the_Cloud/SampleDataset(s)/\""
   ]
  },
  {
   "cell_type": "code",
   "execution_count": null,
   "id": "dca75cee",
   "metadata": {},
   "outputs": [],
   "source": [
    "if not os.path.exists(os.path.join(DATA, data_folder)):\n",
    "    with ZipFile(f\"{DATA}/{data_folder}.zip\", 'r') as zipf:\n",
    "        zipf.extractall(f\"{DATA}\")"
   ]
  },
  {
   "cell_type": "code",
   "execution_count": null,
   "id": "abe6bbd4",
   "metadata": {},
   "outputs": [],
   "source": [
    "from sklearn.model_selection import train_test_split\n",
    "def generate_datasets(root_dir, image_dir, annot_dir,  task=\"localization\"):\n",
    "    img_dir = os.path.join(root_dir, image_dir)\n",
    "    annot_dir = os.path.join(root_dir, annot_dir)\n",
    "    \n",
    "    # PID regex\n",
    "    pid_reg = re.compile(\"9[0-9]{6}\")\n",
    "    \n",
    "    # Image names + annotation names match\n",
    "    records = [[pid_reg.findall(img)[-1], img, img if task != \"localization\" else img.replace(\".jpg\", \".xml\")] \n",
    "               for img in os.listdir(img_dir) if \".DS_Store\" not in img and \".ipynb_checkpoints\" not in img]\n",
    "\n",
    "    data_records = pd.DataFrame(records, columns=[\"pid\", \"images\", \"masks\"])\n",
    "\n",
    "    train, test = train_test_split(data_records.pid.unique(), test_size=0.5, random_state=42)\n",
    "    valid, test = train_test_split(test, test_size=0.5, random_state=42)\n",
    "\n",
    "    train = data_records[data_records.pid.isin(train)].reset_index(drop=True)\n",
    "    valid = data_records[data_records.pid.isin(valid)].reset_index(drop=True)\n",
    "    test = data_records[data_records.pid.isin(test)].reset_index(drop=True)\n",
    "\n",
    "    return train, valid, test"
   ]
  },
  {
   "cell_type": "code",
   "execution_count": null,
   "id": "7d5311f7",
   "metadata": {},
   "outputs": [],
   "source": [
    "train, valid, test = generate_datasets(f\"{DATA}/{data_folder}\", \"images\", \"labels\")"
   ]
  },
  {
   "cell_type": "code",
   "execution_count": null,
   "id": "b4ddab4e",
   "metadata": {},
   "outputs": [],
   "source": [
    "train"
   ]
  },
  {
   "cell_type": "code",
   "execution_count": null,
   "id": "f2413c60",
   "metadata": {},
   "outputs": [],
   "source": [
    "def get_few_shot_sample(dataset, k=1, random_state=42):\n",
    "    if k > len(dataset):\n",
    "        return dataset\n",
    "\n",
    "    return dataset.sample(k, random_state=random_state).reset_index(drop=True)"
   ]
  },
  {
   "cell_type": "code",
   "execution_count": null,
   "id": "21c0612a",
   "metadata": {},
   "outputs": [],
   "source": [
    "train_few = get_few_shot_sample(train, k=10)\n",
    "valid_few = get_few_shot_sample(valid, k=10)"
   ]
  },
  {
   "cell_type": "code",
   "execution_count": null,
   "id": "c042f139",
   "metadata": {},
   "outputs": [],
   "source": [
    "few_shot_dir = \"yolov7-main/datasets/localization-10-shot\"\n",
    "if not os.path.exists(few_shot_dir):\n",
    "    os.makedirs(few_shot_dir)"
   ]
  },
  {
   "cell_type": "code",
   "execution_count": null,
   "id": "2ee4fb0f",
   "metadata": {},
   "outputs": [],
   "source": [
    "os.makedirs(f\"{few_shot_dir}/train/images\")\n",
    "os.makedirs(f\"{few_shot_dir}/train/labels\")\n",
    "\n",
    "os.makedirs(f\"{few_shot_dir}/valid/images\")\n",
    "os.makedirs(f\"{few_shot_dir}/valid/labels\")\n",
    "\n",
    "os.makedirs(f\"{few_shot_dir}/test/images\")\n",
    "os.makedirs(f\"{few_shot_dir}/test/labels\")\n"
   ]
  },
  {
   "cell_type": "code",
   "execution_count": null,
   "id": "c48d89d7",
   "metadata": {},
   "outputs": [],
   "source": [
    "for pid in train_few.pid:\n",
    "    shutil.copy(f\"{DATA}/{data_folder}/images/{pid}.jpg\", f\"{few_shot_dir}/train/images/{pid}.jpg\")\n",
    "    shutil.copy(f\"{DATA}/{data_folder}/labels/{pid}.txt\", f\"{few_shot_dir}/train/labels/{pid}.txt\")"
   ]
  },
  {
   "cell_type": "code",
   "execution_count": null,
   "id": "79c503c4",
   "metadata": {},
   "outputs": [],
   "source": [
    "for pid in valid_few.pid:\n",
    "    shutil.copy(f\"{DATA}/{data_folder}/images/{pid}.jpg\", f\"{few_shot_dir}/valid/images/{pid}.jpg\")\n",
    "    shutil.copy(f\"{DATA}/{data_folder}/labels/{pid}.txt\", f\"{few_shot_dir}/valid/labels/{pid}.txt\")"
   ]
  },
  {
   "cell_type": "code",
   "execution_count": null,
   "id": "66488bd7",
   "metadata": {},
   "outputs": [],
   "source": [
    "for pid in test.pid:\n",
    "    shutil.copy(f\"{DATA}/{data_folder}/images/{pid}.jpg\", f\"{few_shot_dir}/test/images/{pid}.jpg\")\n",
    "    shutil.copy(f\"{DATA}/{data_folder}/labels/{pid}.txt\", f\"{few_shot_dir}/test/labels/{pid}.txt\")"
   ]
  },
  {
   "cell_type": "code",
   "execution_count": null,
   "id": "e3a1a4e8",
   "metadata": {},
   "outputs": [],
   "source": [
    "yaml_info = {\n",
    "    \"train\": \"../train/images\",\n",
    "    \"val\": \"../valid/images\",\n",
    "    \"test\": \"../test/images\",\n",
    "    \"nc\": 1,\n",
    "    \"names\": ['KneeAPView']\n",
    "}"
   ]
  },
  {
   "cell_type": "code",
   "execution_count": null,
   "id": "bc8812a3",
   "metadata": {},
   "outputs": [],
   "source": [
    "with open(f'{few_shot_dir}/data.yaml', 'w') as f:\n",
    "    yaml.dump(yaml_info, f)"
   ]
  },
  {
   "cell_type": "code",
   "execution_count": null,
   "id": "435f1dff",
   "metadata": {},
   "outputs": [],
   "source": []
  }
 ],
 "metadata": {
  "kernelspec": {
   "display_name": "Python [conda env:pytorch110_p38_gpu_v1]",
   "language": "python",
   "name": "conda-env-pytorch110_p38_gpu_v1-py"
  },
  "language_info": {
   "codemirror_mode": {
    "name": "ipython",
    "version": 3
   },
   "file_extension": ".py",
   "mimetype": "text/x-python",
   "name": "python",
   "nbconvert_exporter": "python",
   "pygments_lexer": "ipython3",
   "version": "3.8.13"
  }
 },
 "nbformat": 4,
 "nbformat_minor": 5
}
