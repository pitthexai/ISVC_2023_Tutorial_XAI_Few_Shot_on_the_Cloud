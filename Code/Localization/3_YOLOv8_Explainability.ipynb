{
 "cells": [
  {
   "cell_type": "markdown",
   "id": "2ae10608",
   "metadata": {},
   "source": [
    "## YOLOv8 Explainability"
   ]
  },
  {
   "cell_type": "code",
   "execution_count": null,
   "id": "d3870bae",
   "metadata": {},
   "outputs": [],
   "source": [
    "import cv2\n",
    "\n",
    "import matplotlib.pyplot as plt \n",
    "\n",
    "import numpy as np\n",
    "\n",
    "from PIL import Image\n",
    "\n",
    "# Import YOLO from Ultralytics library\n",
    "from ultralytics import YOLO\n",
    "\n",
    "from yolo_cam.eigen_cam import EigenCAM\n",
    "from yolo_cam.utils.image import show_cam_on_image, scale_cam_image"
   ]
  },
  {
   "cell_type": "code",
   "execution_count": null,
   "id": "6afa28f6",
   "metadata": {},
   "outputs": [],
   "source": [
    "trained_model_pth = \"runs/detect/train3/weights/best.pt\"\n",
    "model = YOLO(trained_model_pth)"
   ]
  },
  {
   "cell_type": "code",
   "execution_count": null,
   "id": "db9fea3d",
   "metadata": {},
   "outputs": [],
   "source": [
    "target_layers =[model.model.model[-2]]"
   ]
  },
  {
   "cell_type": "code",
   "execution_count": null,
   "id": "6e4eff0a",
   "metadata": {},
   "outputs": [],
   "source": [
    "cam = EigenCAM(model, target_layers,task='od')"
   ]
  },
  {
   "cell_type": "code",
   "execution_count": null,
   "id": "23e90b70",
   "metadata": {},
   "outputs": [],
   "source": [
    "img = cv2.imread(\"yolov7-main/datasets/localization-10-shot/test/images/9326106.jpg\")"
   ]
  },
  {
   "cell_type": "code",
   "execution_count": null,
   "id": "5825b1cc",
   "metadata": {},
   "outputs": [],
   "source": [
    "img.shape"
   ]
  },
  {
   "cell_type": "code",
   "execution_count": null,
   "id": "2e91799a",
   "metadata": {},
   "outputs": [],
   "source": [
    "plt.imshow(img)"
   ]
  },
  {
   "cell_type": "code",
   "execution_count": null,
   "id": "62d9f25c",
   "metadata": {},
   "outputs": [],
   "source": [
    "img = cv2.resize(img, (640, 640))\n",
    "rgb_img = img.copy()\n",
    "img = np.float32(img) / 255\n",
    "\n",
    "grayscale_cam = cam(rgb_img)[0, :, :]\n",
    "cam_image = show_cam_on_image(img, grayscale_cam, use_rgb=True)\n",
    "plt.imshow(cam_image)\n",
    "plt.show()"
   ]
  },
  {
   "cell_type": "code",
   "execution_count": null,
   "id": "2e6592b3",
   "metadata": {},
   "outputs": [],
   "source": [
    "g_scale = cv2.resize(np.stack([grayscale_cam] * 3, axis=2), (224,224))\n",
    "\n",
    "plt.imshow(g_scale, cmap='gray')\n",
    "plt.show()"
   ]
  },
  {
   "cell_type": "code",
   "execution_count": null,
   "id": "3d78b82f",
   "metadata": {},
   "outputs": [],
   "source": [
    "# im = cv2.cvtColor(rgb_img, cv2.COLOR_RGB2BGR)\n",
    "Image.fromarray(np.hstack((rgb_img, cam_image)))"
   ]
  },
  {
   "cell_type": "code",
   "execution_count": null,
   "id": "78626e07",
   "metadata": {},
   "outputs": [],
   "source": []
  }
 ],
 "metadata": {
  "kernelspec": {
   "display_name": "Python [conda env:pytorch110_p38_gpu_v1]",
   "language": "python",
   "name": "conda-env-pytorch110_p38_gpu_v1-py"
  },
  "language_info": {
   "codemirror_mode": {
    "name": "ipython",
    "version": 3
   },
   "file_extension": ".py",
   "mimetype": "text/x-python",
   "name": "python",
   "nbconvert_exporter": "python",
   "pygments_lexer": "ipython3",
   "version": "3.8.13"
  }
 },
 "nbformat": 4,
 "nbformat_minor": 5
}
